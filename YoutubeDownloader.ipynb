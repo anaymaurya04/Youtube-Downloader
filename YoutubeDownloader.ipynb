{
  "cells": [
    {
      "cell_type": "code",
      "execution_count": 1,
      "metadata": {
        "id": "VaytynlEyEgj"
      },
      "outputs": [],
      "source": [
        "import os\n",
        "from pytube import Playlist,YouTube"
      ]
    },
    {
      "cell_type": "code",
      "execution_count": null,
      "metadata": {},
      "outputs": [],
      "source": [
        "def sanitize_filename(filename):\n",
        "    sanitized = \"\".join(c for c in filename if c not in r'\\/:*?\"<>|').strip()\n",
        "    return sanitized[:100] if len(sanitized) > 100 else sanitized"
      ]
    },
    {
      "cell_type": "code",
      "execution_count": 3,
      "metadata": {
        "id": "ucx_pjxky08j"
      },
      "outputs": [],
      "source": [
        "def download_video(url, save_path):\n",
        "    try:\n",
        "        yt = YouTube(url)\n",
        "        video_stream = yt.streams.get_highest_resolution()\n",
        "        if video_stream:\n",
        "            print(f\"Downloading: {yt.title}\")\n",
        "            safe_title = sanitize_filename(yt.title)\n",
        "            video_stream.download(output_path=save_path, filename=f\"{safe_title}.mp4\")\n",
        "            print(\"Video downloaded successfully!\")\n",
        "        else:\n",
        "            print(f\"No video stream found for: {yt.title}\")\n",
        "    except Exception as e:\n",
        "        print(\"An error occurred:\", e)"
      ]
    },
    {
      "cell_type": "code",
      "execution_count": 4,
      "metadata": {
        "id": "PHGTmyyW1gHi"
      },
      "outputs": [],
      "source": [
        "def download_audio(url, save_path):\n",
        "    try:\n",
        "        yt = YouTube(url)\n",
        "        audio_stream = yt.streams.filter(only_audio=True).first()\n",
        "        if audio_stream:\n",
        "            print(f\"Downloading audio for: {yt.title}\")\n",
        "            safe_title = sanitize_filename(yt.title)\n",
        "            audio_stream.download(output_path=save_path, filename=f\"{safe_title}.mp3\")\n",
        "            print(\"Audio downloaded successfully!\")\n",
        "        else:\n",
        "            print(f\"No audio stream found for: {yt.title}\")\n",
        "    except Exception as e:\n",
        "        print(\"An error occurred:\", e)"
      ]
    },
    {
      "cell_type": "code",
      "execution_count": 5,
      "metadata": {
        "id": "6D6N5OQR19jA"
      },
      "outputs": [],
      "source": [
        "def download_playlist(url, save_path):\n",
        "    try:\n",
        "        playlist = Playlist(url)\n",
        "        safe_playlist_title = sanitize_filename(playlist.title)\n",
        "        playlist_path = os.path.join(save_path, safe_playlist_title)\n",
        "        os.makedirs(playlist_path, exist_ok=True)\n",
        "        print(f\"Downloading playlist: {playlist.title} to {playlist_path}\")\n",
        "        for video_url in playlist.video_urls:\n",
        "            yt = YouTube(video_url)\n",
        "            video_stream = yt.streams.get_highest_resolution()\n",
        "            if video_stream:\n",
        "                print(f\"Downloading: {yt.title}\")\n",
        "                safe_title = sanitize_filename(yt.title)\n",
        "                video_stream.download(output_path=playlist_path, filename=f\"{safe_title}.mp4\")\n",
        "            else:\n",
        "                print(f\"No video stream found for: {yt.title}\")\n",
        "        print(\"Playlist downloaded successfully!\")\n",
        "    except Exception as e:\n",
        "        print(\"An error occurred:\", e)"
      ]
    },
    {
      "cell_type": "code",
      "execution_count": 6,
      "metadata": {
        "id": "HCy1wOeg1led"
      },
      "outputs": [],
      "source": [
        "def download_audio_playlist(url, save_path):\n",
        "    try:\n",
        "        playlist = Playlist(url)\n",
        "        safe_playlist_title = sanitize_filename(playlist.title)\n",
        "        playlist_path = os.path.join(save_path, safe_playlist_title)\n",
        "        os.makedirs(playlist_path, exist_ok=True)\n",
        "        print(f\"Downloading audio playlist: {playlist.title} to {playlist_path}\")\n",
        "        for video_url in playlist.video_urls:\n",
        "            yt = YouTube(video_url)\n",
        "            audio_stream = yt.streams.filter(only_audio=True).first()\n",
        "            if audio_stream:\n",
        "                print(f\"Downloading audio for: {yt.title}\")\n",
        "                safe_title = sanitize_filename(yt.title)\n",
        "                audio_stream.download(output_path=playlist_path, filename=f\"{safe_title}.mp3\")\n",
        "            else:\n",
        "                print(f\"No audio stream found for: {yt.title}\")\n",
        "        print(\"Audio playlist downloaded successfully!\")\n",
        "    except Exception as e:\n",
        "        print(\"An error occurred:\", e)"
      ]
    },
    {
      "cell_type": "code",
      "execution_count": 8,
      "metadata": {
        "colab": {
          "base_uri": "https://localhost:8080/"
        },
        "id": "O3LwNzfV1JuT",
        "outputId": "65010737-d8a4-4bec-9a96-2ed7dff0ccd7"
      },
      "outputs": [
        {
          "name": "stdout",
          "output_type": "stream",
          "text": [
            "Downloading playlist: ROCKSTAR Movie Songs |  | A R Rahman | Ranbir Kapoor, Nargis Fakhri |\n",
            "Downloading audio for: Kun Faya Kun\n",
            "Downloading audio for: Phir Se Ud Chala\n",
            "Downloading audio for: Nadaan Parinde (From \"Rockstar\")\n",
            "An error occurred: [Errno 22] Invalid argument: 'c:\\\\Coding\\\\Projects\\\\Youtube Downloader\\\\Saves\\\\Nadaan Parinde (From \"Rockstar\").mp3'\n"
          ]
        }
      ],
      "source": [
        "if __name__ == \"__main__\":\n",
        "  choice = input(\"Enter your choice (1 for video, 2 for playlist, 3 for audio, 4 for audio playlist): \")\n",
        "  if choice == \"1\":\n",
        "    url = input(\"Enter the YouTube video URL: \")\n",
        "    save_path = input(\"Enter the save path:) \")\n",
        "    download_video(url,save_path)\n",
        "  if choice == \"2\":\n",
        "    url = input(\"Enter the YouTube playlist URL: \")\n",
        "    save_path = input(\"Enter the save path:) \")\n",
        "    download_playlist(url,save_path)\n",
        "  if choice == \"3\":\n",
        "    url = input(\"Enter the YouTube video URL: \")\n",
        "    save_path = input(\"Enter the save path:) \")\n",
        "    download_audio(url,save_path)\n",
        "  if choice == \"4\":\n",
        "    url = input(\"Enter the YouTube playlist URL: \")\n",
        "    save_path = input(\"Enter the save path:) \")\n",
        "    download_audio_playlist(url,save_path)\n"
      ]
    }
  ],
  "metadata": {
    "colab": {
      "provenance": []
    },
    "kernelspec": {
      "display_name": "Python 3",
      "name": "python3"
    },
    "language_info": {
      "codemirror_mode": {
        "name": "ipython",
        "version": 3
      },
      "file_extension": ".py",
      "mimetype": "text/x-python",
      "name": "python",
      "nbconvert_exporter": "python",
      "pygments_lexer": "ipython3",
      "version": "3.12.2"
    }
  },
  "nbformat": 4,
  "nbformat_minor": 0
}
