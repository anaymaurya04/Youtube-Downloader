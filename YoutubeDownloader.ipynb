{
 "cells": [
  {
   "cell_type": "code",
   "execution_count": null,
   "metadata": {
    "colab": {
     "base_uri": "https://localhost:8080/"
    },
    "id": "W__La7E1x1EE",
    "outputId": "6759c5f0-60cd-4cab-c067-b69e7364734a"
   },
   "outputs": [
    {
     "name": "stdout",
     "output_type": "stream",
     "text": [
      "Collecting pytube\n",
      "  Downloading pytube-15.0.0-py3-none-any.whl (57 kB)\n",
      "\u001b[?25l     \u001b[90m━━━━━━━━━━━━━━━━━━━━━━━━━━━━━━━━━━━━━━━━\u001b[0m \u001b[32m0.0/57.6 kB\u001b[0m \u001b[31m?\u001b[0m eta \u001b[36m-:--:--\u001b[0m\r",
      "\u001b[2K     \u001b[91m━━━━━━━━━━━━━━━━━━━━━━━━━━━━━━━━━━━\u001b[0m\u001b[91m╸\u001b[0m\u001b[90m━━━━\u001b[0m \u001b[32m51.2/57.6 kB\u001b[0m \u001b[31m1.6 MB/s\u001b[0m eta \u001b[36m0:00:01\u001b[0m\r",
      "\u001b[2K     \u001b[90m━━━━━━━━━━━━━━━━━━━━━━━━━━━━━━━━━━━━━━━━\u001b[0m \u001b[32m57.6/57.6 kB\u001b[0m \u001b[31m1.1 MB/s\u001b[0m eta \u001b[36m0:00:00\u001b[0m\n",
      "\u001b[?25hInstalling collected packages: pytube\n",
      "Successfully installed pytube-15.0.0\n"
     ]
    }
   ],
   "source": [
    "!pip install pytube"
   ]
  },
  {
   "cell_type": "code",
   "execution_count": null,
   "metadata": {
    "id": "VaytynlEyEgj"
   },
   "outputs": [],
   "source": [
    "\n",
    "from pytube import YouTube, Playlist\n",
    "import re\n",
    "\n",
    "# Validate URL\n",
    "def validate_url(url):\n",
    "    video_pattern = re.compile(r'(https?://)?(www\\.)?(youtube|youtu|youtube-nocookie)\\.(com|be)/(watch\\?v=|embed/|v/|.+\\?v=)?([^&=%\\?]{11})')\n",
    "    playlist_pattern = re.compile(r'(https?://)?(www\\.)?(youtube|youtu|youtube-nocookie)\\.(com|be)/playlist\\?list=([^&=%\\?]+)')\n",
    "    \n",
    "    video_match = video_pattern.match(url)\n",
    "    playlist_match = playlist_pattern.match(url)\n",
    "    \n",
    "    if video_match:\n",
    "        return \"video\"\n",
    "    elif playlist_match:\n",
    "        return \"playlist\"\n",
    "    else:\n",
    "        return None\n",
    "\n",
    "# Function to download a single video\n",
    "def download_video(url, save_path):\n",
    "    try:\n",
    "        yt = YouTube(url)\n",
    "        video = yt.streams.get_highest_resolution()\n",
    "        video.download(save_path)\n",
    "        print(\"Video downloaded successfully!\")\n",
    "    except Exception as e:\n",
    "        print(\"An error occurred:\", e)\n",
    "\n",
    "# Function to download all videos in a playlist\n",
    "def download_playlist(url, save_path):\n",
    "    try:\n",
    "        playlist = Playlist(url)\n",
    "        for video in playlist.videos:\n",
    "            video.streams.get_highest_resolution().download(save_path)\n",
    "        print(\"Playlist downloaded successfully!\")\n",
    "    except Exception as e:\n",
    "        print(\"An error occurred:\", e)\n",
    "\n",
    "# Function to download audio from a single video\n",
    "def download_audio(url, save_path):\n",
    "    try:\n",
    "        yt = YouTube(url)\n",
    "        audio = yt.streams.get_audio_only()\n",
    "        audio.download(save_path)\n",
    "        print(\"Audio downloaded successfully!\")\n",
    "    except Exception as e:\n",
    "        print(\"An error occurred:\", e)\n",
    "\n",
    "# Function to download audio from all videos in a playlist\n",
    "def download_audio_playlist(url, save_path):\n",
    "    try:\n",
    "        playlist = Playlist(url)\n",
    "        for video in playlist.videos:\n",
    "            video.streams.get_audio_only().download(save_path)\n",
    "        print(\"Audio playlist downloaded successfully!\")\n",
    "    except Exception as e:\n",
    "        print(\"An error occurred:\", e)\n",
    "\n",
    "# Main function to choose the download type\n",
    "if __name__ == \"__main__\":\n",
    "    choice = input(\"Enter your choice (1 for video, 2 for playlist, 3 for audio, 4 for audio playlist): \")\n",
    "    url = input(\"Enter the YouTube URL: \")\n",
    "    save_path = input(\"Enter the save path: \")\n",
    "    \n",
    "    url_type = validate_url(url)\n",
    "    if url_type == \"video\":\n",
    "        if choice == \"1\":\n",
    "            download_video(url, save_path)\n",
    "        elif choice == \"3\":\n",
    "            download_audio(url, save_path)\n",
    "        else:\n",
    "            print(\"Invalid choice for a single video URL\")\n",
    "    elif url_type == \"playlist\":\n",
    "        if choice == \"2\":\n",
    "            download_playlist(url, save_path)\n",
    "        elif choice == \"4\":\n",
    "            download_audio_playlist(url, save_path)\n",
    "        else:\n",
    "            print(\"Invalid choice for a playlist URL\")\n",
    "    else:\n",
    "        print(\"Invalid YouTube URL\")\n"
   ]
  },
  {
   "cell_type": "code",
   "execution_count": null,
   "metadata": {
    "id": "ucx_pjxky08j"
   },
   "outputs": [],
   "source": [
    "def download_video(url,save_path):\n",
    "  try:\n",
    "    yt = YouTube(url)\n",
    "    video = yt.streams.get_highest_resolution()\n",
    "    video.download(save_path)\n",
    "    print(\"Video downloaded successfully!\")\n",
    "  except Exception as e:\n",
    "    print(\"An error occurred:\", e)"
   ]
  },
  {
   "cell_type": "code",
   "execution_count": null,
   "metadata": {
    "id": "PHGTmyyW1gHi"
   },
   "outputs": [],
   "source": [
    "def download_playlist(url,save_path):\n",
    "  try:\n",
    "    yt = YouTube(url)\n",
    "    playlist = yt.playlist\n",
    "    for video in playlist:\n",
    "      video.download(save_path)\n",
    "    print(\"Playlist downloaded successfully!\")\n",
    "  except Exception as e:\n",
    "    print(\"An error occurred:\", e)"
   ]
  },
  {
   "cell_type": "code",
   "execution_count": null,
   "metadata": {
    "id": "6D6N5OQR19jA"
   },
   "outputs": [],
   "source": [
    "def download_audio(url,save_path):\n",
    "  try:\n",
    "    yt = YouTube(url)\n",
    "    audio = yt.streams.get_audio_only()\n",
    "    audio.download(save_path)\n",
    "    print(\"Audio downloaded successfully!\")\n",
    "  except Exception as e:\n",
    "    print(\"An error occurred:\", e)"
   ]
  },
  {
   "cell_type": "code",
   "execution_count": null,
   "metadata": {
    "id": "HCy1wOeg1led"
   },
   "outputs": [],
   "source": [
    "def download_audio_playlist(url,save_path):\n",
    "  try:\n",
    "    yt = YouTube(url)\n",
    "    playlist = yt.playlist\n",
    "    for video in playlist:\n",
    "      video.streams.get_audio_only().download(save_path)\n",
    "    print(\"Audio playlist downloaded successfully!\")\n",
    "  except Exception as e:\n",
    "    print(\"An error occurred:\", e)"
   ]
  },
  {
   "cell_type": "code",
   "execution_count": null,
   "metadata": {
    "colab": {
     "base_uri": "https://localhost:8080/"
    },
    "id": "O3LwNzfV1JuT",
    "outputId": "65010737-d8a4-4bec-9a96-2ed7dff0ccd7"
   },
   "outputs": [
    {
     "name": "stdout",
     "output_type": "stream",
     "text": [
      "Enter the YouTube video URL: https://www.youtube.com/watch?v=awddneKbFIk\n",
      "Enter the path to save the video: \n",
      "Video downloaded successfully!\n"
     ]
    }
   ],
   "source": [
    "if __name__ == \"__main__\":\n",
    "  choice = input(\"Enter your choice (1 for video, 2 for playlist, 3 for audio, 4 for audio playlist): \")\n",
    "  if choice == \"1\":\n",
    "    url = input(\"Enter the YouTube video URL: \")\n",
    "    save_path = input(\"Enter the save path:) \")\n",
    "    download_video(url,save_path)\n",
    "  if choice == \"2\":\n",
    "    url = input(\"Enter the YouTube playlist URL: \")\n",
    "    save_path = input(\"Enter the save path:) \")\n",
    "    download_playlist(url,save_path)\n",
    "  if choice == \"3\":\n",
    "    url = input(\"Enter the YouTube video URL: \")\n",
    "    save_path = input(\"Enter the save path:) \")\n",
    "    download_audio(url,save_path)\n",
    "  if choice == \"4\":\n",
    "    url = input(\"Enter the YouTube playlist URL: \")\n",
    "    save_path = input(\"Enter the save path:) \")\n",
    "    download_audio_playlist(url,save_path)\n"
   ]
  }
 ],
 "metadata": {
  "colab": {
   "provenance": []
  },
  "kernelspec": {
   "display_name": "Python 3",
   "name": "python3"
  },
  "language_info": {
   "name": "python"
  }
 },
 "nbformat": 4,
 "nbformat_minor": 0
}
